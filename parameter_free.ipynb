{
  "nbformat": 4,
  "nbformat_minor": 0,
  "metadata": {
    "colab": {
      "name": "parameter_free.ipynb",
      "provenance": [],
      "collapsed_sections": [
        "Hyu0nClOJKsF",
        "PAR6_SROJOAc",
        "SeBfLApYJShj",
        "RIf4gdATJXzl",
        "SMiPlct3JbyY",
        "kQyax-8BJfn4",
        "iCk6F_2jJiVv"
      ],
      "authorship_tag": "ABX9TyODU1GQPTDFQ2bixmQnwQcV",
      "include_colab_link": true
    },
    "kernelspec": {
      "name": "python3",
      "display_name": "Python 3"
    }
  },
  "cells": [
    {
      "cell_type": "markdown",
      "metadata": {
        "id": "view-in-github",
        "colab_type": "text"
      },
      "source": [
        "<a href=\"https://colab.research.google.com/github/acutkosky/parameter_free_demo/blob/master/parameter_free.ipynb\" target=\"_parent\"><img src=\"https://colab.research.google.com/assets/colab-badge.svg\" alt=\"Open In Colab\"/></a>"
      ]
    },
    {
      "cell_type": "markdown",
      "metadata": {
        "id": "Hyu0nClOJKsF",
        "colab_type": "text"
      },
      "source": [
        "#Imports"
      ]
    },
    {
      "cell_type": "code",
      "metadata": {
        "id": "2ORNNl9u6kRX",
        "colab_type": "code",
        "colab": {}
      },
      "source": [
        "import numpy as np\n",
        "from scipy.stats import ortho_group\n",
        "from matplotlib import pyplot as plt\n",
        "plt.rcParams[\"figure.figsize\"] = (20,10)\n"
      ],
      "execution_count": null,
      "outputs": []
    },
    {
      "cell_type": "markdown",
      "metadata": {
        "id": "PAR6_SROJOAc",
        "colab_type": "text"
      },
      "source": [
        "#Base Class\n",
        "\n",
        "base class for online learners that can add various reductions. Right now it includes:\n",
        " * anytime online-to-batch. https://arxiv.org/abs/1903.00974\n",
        " * adding weighted average for [metagrad](https://papers.nips.cc/paper/6268-metagrad-multiple-learning-rates-in-online-learning)-like bounds that can adapt to strong-convexity as in Algorithm 6 [here](http://proceedings.mlr.press/v75/cutkosky18a/cutkosky18a.pdf). This one technically only works with parameter-free algorithms, not other things like AdaGrad. That doesn't mean you can't try it anyway though, of course."
      ]
    },
    {
      "cell_type": "code",
      "metadata": {
        "id": "UXeBCzY26PLC",
        "colab_type": "code",
        "colab": {}
      },
      "source": [
        "# base class for online learners that can add various reductions. Right now it includes:\n",
        "# anytime online-to-batch https://arxiv.org/abs/1903.00974\n",
        "# adding weighted average for metagrad-like bounds as in https://arxiv.org/abs/1802.06293 (algorithm 6)\n",
        "# ^ this second one technically only works with parameter-free algs, not other things like adagrad.\n",
        "#   That doesn't mean you can't try it anyway though, of course.\n",
        "class Optimizer(object):\n",
        "    def __init__(self, initial_var_value, do_online_to_batch=False, add_average=False):\n",
        "        self.initial_var_value = initial_var_value\n",
        "        self.average_offset = 0\n",
        "        self.iteration_count = 0\n",
        "        self.do_OTB = do_online_to_batch\n",
        "        self.add_average = add_average\n",
        "        self.sum_squared_grad = 0.00001\n",
        "        self.weighted_offset = 0\n",
        "        self.last_iterate=initial_var_value\n",
        "\n",
        "    def get_last_iterate(self):\n",
        "      return self.last_iterate\n",
        "\n",
        "    def update(self, grad, loss):\n",
        "        # call this to update the optimizer. the return value is the next iterate.\n",
        "        self.iteration_count += 1\n",
        "\n",
        "        # get output from actual optimizer.\n",
        "        offset = self.apply_grad(grad, loss)\n",
        "\n",
        "        if self.add_average:\n",
        "            # statistics used to compute weighted averages\n",
        "            grad_squared = np.linalg.norm(grad)#grad**2\n",
        "            self.sum_squared_grad += grad_squared\n",
        "            self.weighted_offset += grad_squared * (self.last_iterate - self.weighted_offset)/self.sum_squared_grad\n",
        "            # add weighted average of past iterates for metagrad-esque bounds.\n",
        "            offset = offset + self.weighted_offset\n",
        "\n",
        "        self.last_offset = offset\n",
        "\n",
        "        # unweighted average iterate for anytime online-to-batch.\n",
        "        self.average_offset += (offset - self.average_offset) / self.iteration_count\n",
        "\n",
        "        if self.do_OTB:\n",
        "            # do anytime online-to-batch conversion from https://arxiv.org/abs/1903.00974\n",
        "            self.last_iterate = self.initial_var_value + self.average_offset\n",
        "        else:\n",
        "            self.last_iterate = self.initial_var_value + offset\n",
        "\n",
        "        return self.last_iterate\n",
        "\n",
        "\n",
        "    def apply_grad(self, grad, loss):\n",
        "        raise NotImplementedError\n",
        "\n"
      ],
      "execution_count": null,
      "outputs": []
    },
    {
      "cell_type": "markdown",
      "metadata": {
        "id": "SeBfLApYJShj",
        "colab_type": "text"
      },
      "source": [
        "# Adagrad\n",
        "Implementation as described [here](http://www.jmlr.org/papers/volume12/duchi11a/duchi11a.pdf)."
      ]
    },
    {
      "cell_type": "code",
      "metadata": {
        "id": "L0lT1Qo4Iqeg",
        "colab_type": "code",
        "colab": {}
      },
      "source": [
        "# Adagrad implementation\n",
        "class AdaGrad(Optimizer):\n",
        "    def __init__(self, initial_var_value, lr, **kwargs):\n",
        "        super(AdaGrad, self).__init__(initial_var_value, **kwargs)\n",
        "        self.lr = lr\n",
        "        self.sum_squared_grad = 0.0001 #small number for numerical stability\n",
        "        self.w = 0\n",
        "    \n",
        "    def apply_grad(self, grad, loss):\n",
        "        # loss is unused here\n",
        "\n",
        "        grad_magnitude_squared = grad**2\n",
        "        self.sum_squared_grad += grad_magnitude_squared\n",
        "\n",
        "        eta = self.lr/np.sqrt(self.sum_squared_grad)\n",
        "\n",
        "        self.w -=  eta * grad\n",
        "        return self.w\n"
      ],
      "execution_count": null,
      "outputs": []
    },
    {
      "cell_type": "markdown",
      "metadata": {
        "id": "RIf4gdATJXzl",
        "colab_type": "text"
      },
      "source": [
        "# ONS Coin Betting with per-coordinate updates\n",
        "Uses coin betting based on online-newton-step as described in algorithm 1 of [this paper](http://proceedings.mlr.press/v75/cutkosky18a/cutkosky18a.pdf)."
      ]
    },
    {
      "cell_type": "code",
      "metadata": {
        "id": "kFkPASo96YgA",
        "colab_type": "code",
        "colab": {}
      },
      "source": [
        "\n",
        "# coin betting algorithm, using \n",
        "# ons-based techniqe from http://proceedings.mlr.press/v75/cutkosky18a/cutkosky18a.pdf\n",
        "# (algorithm 1), applied on each coordinate independently.\n",
        "# initial wealth is the initial amount of money for the coin better\n",
        "# domain restricts the betting fraction to be in the range [-domain, domain]\n",
        "# both of these have only logarithmic effect on the regret bound.\n",
        "class ONS_CB(Optimizer):\n",
        "    def __init__(self, initial_var_value, initial_wealth=1.0, domain=0.5, **kwargs):\n",
        "        # propogate keyword arguments to base class\n",
        "        super(ONS_CB, self).__init__(initial_var_value, **kwargs)\n",
        "\n",
        "        self.wealth = initial_wealth\n",
        "\n",
        "        self.domain = domain\n",
        "\n",
        "        self.sum_grad = 0\n",
        "        self.max_grad = 0.000001\n",
        "        self.w = 0 #current iterate value\n",
        "\n",
        "        self.beta = 0\n",
        "\n",
        "\n",
        "        self.sum_z_squared = 0.00001\n",
        "        self.sum_z = 0\n",
        "\n",
        "\n",
        "\n",
        "    def apply_grad(self, grad, loss):\n",
        "        # loss is unused here\n",
        "\n",
        "        # truncated_grad = np.clip(grad, -self.max_grad, self.max_grad)\n",
        "        self.max_grad = np.maximum(np.abs(grad), self.max_grad)\n",
        "        grad = grad/self.max_grad\n",
        "        # grad = truncated_grad\n",
        "\n",
        "\n",
        "        # compute gradient of beta-loss L(beta) = -log(1-beta *grad)\n",
        "        z = grad/(1.0 - self.beta * grad)\n",
        "\n",
        "\n",
        "        ### do Online Newton Step (ONS) update on L(beta)\n",
        "        self.sum_z_squared += z**2\n",
        "        self.sum_z += z\n",
        "        ONS_eta = 2.0/(2.0 - np.log(3.0)) # magic constant related to logarithms and 0.5...\n",
        "        domain = self.domain\n",
        "        ONS_eta = -0.5 * domain**2/(domain + np.log(1-domain))\n",
        "        self.beta = np.clip(self.beta - ONS_eta * z / self.sum_z_squared, -domain, domain)\n",
        "        # self.beta = np.clip(-ONS_eta * self.sum_z/self.sum_z_squared, -0.5, 0.5)\n",
        "        ###\n",
        "\n",
        "        self.wealth -= grad * self.w\n",
        "\n",
        "        \n",
        "        self.w = self.beta * self.wealth\n",
        "        # print(\"w: \",self.w)\n",
        "        # print(\"self.beta: \", self.beta)\n",
        "\n",
        "\n",
        "        return self.w\n",
        "\n"
      ],
      "execution_count": null,
      "outputs": []
    },
    {
      "cell_type": "markdown",
      "metadata": {
        "id": "SMiPlct3JbyY",
        "colab_type": "text"
      },
      "source": [
        "#ONS Coin Betting with dimension-free regret bound\n",
        "\n",
        "Uses sign-based conversion from 1D to dimension-free as described in Algorithm 4 of Ashok's [thesis](https://cs.stanford.edu/~ashokc/papers/thesis.pdf.)."
      ]
    },
    {
      "cell_type": "code",
      "metadata": {
        "id": "F7ZRqbdBIoI8",
        "colab_type": "code",
        "colab": {}
      },
      "source": [
        "class ONS_CB_dim_free(Optimizer):\n",
        "    def __init__(self, initial_var_value, initial_wealth=1.0, domain=0.5, **kwargs):\n",
        "        # propogate keyword arguments to base class\n",
        "        super(ONS_CB_dim_free, self).__init__(initial_var_value, **kwargs)\n",
        "\n",
        "        self.wealth = initial_wealth\n",
        "        self.domain = domain\n",
        "\n",
        "        self.sum_grad = 0\n",
        "        self.sum_squared_grad = 0.0001\n",
        "        self.max_grad = 0.000001\n",
        "        self.magnitude = 0\n",
        "\n",
        "        self.beta = 0\n",
        "\n",
        "\n",
        "        self.sum_z_squared = 1.0\n",
        "        self.sum_z = 0\n",
        "\n",
        "        self.sum_signs = 0\n",
        "        # self.sum_grad_direction = np.zeros_like(initial_var_value)\n",
        "        self.direction = np.zeros_like(initial_var_value)\n",
        "\n",
        "\n",
        "    def apply_grad(self, grad, loss):\n",
        "        # loss is unused here\n",
        "\n",
        "\n",
        "        magnitude_grad = np.dot(grad, self.direction)\n",
        "        truncated_grad = np.clip(magnitude_grad, -self.max_grad, self.max_grad)\n",
        "        self.max_grad = np.maximum(np.linalg.norm(grad), self.max_grad)\n",
        "        magnitude_grad = magnitude_grad/self.max_grad\n",
        "\n",
        "\n",
        "        # compute gradient of beta-loss L(beta) = -log(1-beta *grad)\n",
        "        z = magnitude_grad/(1.0 - self.beta * magnitude_grad)\n",
        "\n",
        "\n",
        "        ### do Online Newton Step (ONS) update on L(beta)\n",
        "        self.sum_z_squared += z**2\n",
        "        self.sum_z += z\n",
        "        domain = self.domain\n",
        "        ONS_eta = -0.5 * domain**2/(domain + np.log(1-domain))\n",
        "        # ONS_eta = 2.0/(2.0 - np.log(3.0)) # magic constant related to logarithms and 0.5...\n",
        "        self.beta = np.clip(self.beta - ONS_eta * z / self.sum_z_squared, -domain, domain)\n",
        "        # self.beta = np.clip(-ONS_eta * self.sum_z/self.sum_z_squared, -0.5, 0.5)\n",
        "        ###\n",
        "\n",
        "        self.wealth -= magnitude_grad * self.magnitude\n",
        "\n",
        "        self.magnitude = self.beta * self.wealth\n",
        "\n",
        "        # print(\"mag: \",magnitude_grad)\n",
        "\n",
        "        # direction update. uses \"sign based\" N-D to 1-D reduction\n",
        "        # described in Algorithm 4 of https://cs.stanford.edu/~ashokc/papers/thesis.pdf\n",
        "        self.sum_grad += grad\n",
        "        self.sum_squared_grad += np.linalg.norm(grad)**2\n",
        "        self.sum_signs += magnitude_grad\n",
        "        self.direction = -self.sum_grad/np.sqrt(2*self.sum_squared_grad)\n",
        "        if np.linalg.norm(self.direction) > 1.0:\n",
        "            self.direction = self.direction/np.linalg.norm(self.direction)\n",
        "        # np.sign(self.sum_signs+0.000001) * self.sum_grad/(0.00000001 + np.linalg.norm(self.sum_grad))\n",
        "\n",
        "        return self.magnitude * self.direction"
      ],
      "execution_count": null,
      "outputs": []
    },
    {
      "cell_type": "markdown",
      "metadata": {
        "id": "kQyax-8BJfn4",
        "colab_type": "text"
      },
      "source": [
        "# Loss Definition\n",
        "\n",
        "The expected loss function is given by $\\mathcal{L}(x) = \\ell(\\|M(x-x_\\star)\\|)$, where $M\\in \\mathbb{R}^{d\\times d}$ is a symmetric PSD matrix with exponentially decaying eigenvalues and $\\ell$ is a smoothed version of the absolute loss:\n",
        "\n",
        "$$\n",
        "\\ell(x) = \\left\\{ \n",
        "  \\begin{array}{lr}\n",
        "  t^2&\\text{ if }t<1 \\\\\n",
        "  2|t|-1&\\text{ otherwise}\n",
        "  \\end{array}\\right.\n",
        "$$\n",
        "\n",
        "So that the loss is zero at $x_\\star$.\n",
        "The stochastic gradient oracle is given by $g_t = \\nabla \\mathcal{L}(x) + \\tau M\\zeta_t$ where each $\\zeta_t$ is an independent mean-zero Gaussian random variable with identity covariance and $\\tau$ is a \"noise magnitude\" parameter supplied by the user.\n",
        "\n",
        "We can also use the non-smoothed absolute loss $\\mathcal{L}(x) = \\|M(x-x_\\star)\\|$ by providing an appropriate switch to the loss generator function."
      ]
    },
    {
      "cell_type": "code",
      "metadata": {
        "id": "j_YIlJgO6byQ",
        "colab_type": "code",
        "colab": {}
      },
      "source": [
        "# returns smoothed absolute loss and its derivative\n",
        "# use smoothed loss so that things with second-order bounds can \n",
        "# take advantage of smoothness.\n",
        "def smoothed_absolute_loss(t):\n",
        "    if t<1:\n",
        "        return t**2, 2*t\n",
        "    else:\n",
        "        return 2*np.abs(t) - 1.0, 2*np.sign(t)\n",
        "\n",
        "def absolute_loss(t):\n",
        "  return np.abs(t) , np.sign(t)\n",
        "\n",
        "### optimization problem: linear regression with smoothed absolute loss\n",
        "# This function returns another function that generates loss values and gradients\n",
        "# given an iterate value.\n",
        "def loss_function_factory(dims, noise_magnitude, do_smoothed=True, optimal_point_scaling=10.0, eigenvalue_decay=10.0):\n",
        "  '''\n",
        "  creates a loss function for use in optimization experiments.\n",
        "\n",
        "  arguments:\n",
        "    dims: number of dimensions in the problem.\n",
        "    noise_magnitude: amount of noise to add to gradients.\n",
        "    do_smoothed: whether to use smoothed absolute loss.\n",
        "    optimal_point_scaling: scales how far the optimum is from the origin.\n",
        "    eigenvalue_decay: scales how fast the eigenvalues of the the matrix M decay.\n",
        "  \n",
        "  returns:\n",
        "    a loss function.\n",
        "  '''\n",
        "\n",
        "    # produce a somewhat-poorly-conditioned matrix\n",
        "  if dims != 1:\n",
        "      random_orthogonal_matrix = ortho_group.rvs(dims)\n",
        "  else:\n",
        "      random_orthogonal_matrix = np.array([1.0])\n",
        "  eigenvalues = np.exp(np.arange(dims)/eigenvalue_decay)\n",
        "  eigenvalues = eigenvalues/np.max(eigenvalues)\n",
        "\n",
        "  matrix = np.dot(np.dot(random_orthogonal_matrix, np.diag(eigenvalues)),random_orthogonal_matrix.T)\n",
        "\n",
        "\n",
        "  optimal_point = optimal_point_scaling * np.random.normal(np.zeros(dims), np.ones(dims))\n",
        "\n",
        "  if do_smoothed:\n",
        "    loss_func = smoothed_absolute_loss\n",
        "  else:\n",
        "    loss_func = absolute_loss\n",
        "\n",
        "\n",
        "  def get_loss_and_grad(x):\n",
        "      gap = x - optimal_point\n",
        "      skewed_gap = np.dot(matrix, gap)\n",
        "      skewed_distance = np.linalg.norm(skewed_gap)\n",
        "      loss, grad = loss_func(skewed_distance)\n",
        "      grad = grad * np.dot(matrix, skewed_gap/np.linalg.norm(skewed_gap))\n",
        "\n",
        "      noise = np.random.normal(np.zeros_like(x), np.ones_like(x))\n",
        "      noise = np.dot(matrix, noise)\n",
        "\n",
        "      return loss, grad + noise_magnitude * noise\n",
        "\n",
        "  return get_loss_and_grad"
      ],
      "execution_count": null,
      "outputs": []
    },
    {
      "cell_type": "markdown",
      "metadata": {
        "id": "iCk6F_2jJiVv",
        "colab_type": "text"
      },
      "source": [
        "#Experiment and Plotting Code"
      ]
    },
    {
      "cell_type": "code",
      "metadata": {
        "id": "TiV0baCCjNYL",
        "colab_type": "code",
        "colab": {}
      },
      "source": [
        "def run_and_plot_algorithms(dims, noise_magnitude, num_iter, use_smoothed_absolute_loss, algs, optimal_point_scaling, eigenvalue_decay):\n",
        "  # run all the algorithms\n",
        "  algs_to_losses = {alg: [] for alg in algs}\n",
        "  var_values = {alg: algs[alg].get_last_iterate() for alg in algs}\n",
        "\n",
        "  get_loss_and_grad = loss_function_factory(dims, noise_magnitude, use_smoothed_absolute_loss, optimal_point_scaling, eigenvalue_decay)\n",
        "  for t in range(num_iter):\n",
        "      for alg in algs:\n",
        "          var_value = var_values[alg]\n",
        "          optimizer = algs[alg]\n",
        "          losses = algs_to_losses[alg]\n",
        "          loss, grad = get_loss_and_grad(var_value)\n",
        "          var_values[alg] = optimizer.update(grad, loss)\n",
        "          losses.append(loss)\n",
        "\n",
        "\n",
        "  # plot all the algorithms.\n",
        "  # add some simple windowed-average smoothing to make the plots less noisy.\n",
        "  for alg in algs:\n",
        "      window_size = 100\n",
        "      smoothed = np.convolve(algs_to_losses[alg], np.ones((window_size,))/window_size, mode='valid')\n",
        "      plt.plot(smoothed, label=alg)\n",
        "  plt.legend()\n",
        "  plt.yscale('log')\n",
        "  plt.xscale('log')\n",
        "  plt.ylabel('Expected Loss')\n",
        "  plt.xlabel('iteration count')\n",
        "  loss_type = 'smoothed' if do_smoothed_absolute_loss else 'non-smoothed'\n",
        "  plt.title('Comparison of algorithms on ' + loss_type + ' absolute loss')\n",
        "  plt.show()"
      ],
      "execution_count": null,
      "outputs": []
    },
    {
      "cell_type": "markdown",
      "metadata": {
        "id": "KlR5wfT2jhDA",
        "colab_type": "text"
      },
      "source": [
        "# Run the Experiment"
      ]
    },
    {
      "cell_type": "code",
      "metadata": {
        "id": "xr1rbu3O6fI2",
        "colab_type": "code",
        "colab": {
          "base_uri": "https://localhost:8080/",
          "height": 625
        },
        "outputId": "b01200b2-d942-49e5-dbb4-e3afdeaf71fb"
      },
      "source": [
        "\n",
        "dims = 1000 # dimension of optimization problem\n",
        "noise_magnitude = 0.1 # amount of noise to add to gradients\n",
        "num_iter = 10000 # number of iterations, decrease to make the notebook run faster\n",
        "\n",
        "# technical options influencing shape of the loss function.\n",
        "use_smoothed_absolute_loss = True # AdaGrad seems to be comparatively best with smoothing\n",
        "optimal_point_scaling = 10.0 # scales distance between origin and optimal point.\n",
        "eigenvalue_decay = 10.0 # larger values indicate *slower* decay of eigenvalues in M matrix in the loss.\n",
        "\n",
        "initial_var_value = np.zeros(dims) #initial value of iterates\n",
        "\n",
        "# dict of algorithms to test\n",
        "algs = {\n",
        "    'per-coordinate coin-betting via ONS': ONS_CB(initial_var_value, add_average=True, do_online_to_batch=True),\n",
        "    'dimension-free coin-betting via ONS': ONS_CB_dim_free(initial_var_value, add_average=True, do_online_to_batch=True),\n",
        "\n",
        "    # lr=1.0 is empirically the the best with the defaults in this notebook.\n",
        "    'adagrad lr=1.0': AdaGrad(initial_var_value, lr=1.0),\n",
        "    # 'adagrad lr=10': AdaGrad(var_value, lr=10.0),\n",
        "    # 'adagrad lr=0.1': AdaGrad(var_value, lr=0.1),\n",
        "\n",
        "    # Can try adagrad with all combinations if desired ( the default of False, False is best )\n",
        "    # 'adagrad with online-to-batch': AdaGrad(var_value, lr=1.0, do_online_to_batch=True),\n",
        "    # 'adagrad with adding average': AdaGrad(var_value,  lr=1.0, add_average=True),\n",
        "    # 'adagrad with adding average and online-to-batch': AdaGrad(var_value, lr=1.0, add_average=True, do_online_to_batch=True),\n",
        "}\n",
        "\n",
        "run_and_plot_algorithms(dims, noise_magnitude, num_iter, use_smoothed_absolute_loss, algs, optimal_point_scaling, eigenvalue_decay)\n"
      ],
      "execution_count": null,
      "outputs": [
        {
          "output_type": "display_data",
          "data": {
            "image/png": "[encoded data removed]",
            "text/plain": [
              "<Figure size 1440x720 with 1 Axes>"
            ]
          },
          "metadata": {
            "tags": [],
            "needs_background": "light"
          }
        }
      ]
    },
    {
      "cell_type": "code",
      "metadata": {
        "id": "Kv7TFyYC6hh0",
        "colab_type": "code",
        "colab": {}
      },
      "source": [
        ""
      ],
      "execution_count": null,
      "outputs": []
    }
  ]
}